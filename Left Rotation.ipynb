{
 "cells": [
  {
   "cell_type": "code",
   "execution_count": 9,
   "metadata": {},
   "outputs": [],
   "source": [
    "#d is the number of rotation\n",
    "#n is the number of elements in array \n",
    "def Left_rotate(arr,d,n):\n",
    "    for i in range(d):\n",
    "        Left_rotate_onebyone(arr,n)\n",
    "        \n",
    "        \n",
    "        \n",
    "#function for left rotating by size 1\n",
    "\n",
    "def Left_rotate_onebyone(arr,n):\n",
    "    temp = arr[0]\n",
    "    for i in range(0,n-1):\n",
    "        arr[i]=arr[i+1]\n",
    "    arr[n-1] = temp\n",
    "    \n",
    "#function for printing array\n",
    "def print_array(arr,size):\n",
    "    for i in range(size):\n",
    "        print (\"% d\"% arr[i], end =\" \") \n",
    "    \n",
    "    "
   ]
  },
  {
   "cell_type": "code",
   "execution_count": 10,
   "metadata": {},
   "outputs": [
    {
     "name": "stdout",
     "output_type": "stream",
     "text": [
      " 3  4  5  6  7  1  2 "
     ]
    }
   ],
   "source": [
    "Array = [1,2,3,4,5,6,7]\n",
    "Left_rotate(Array,2,7)\n",
    "print_array(Array,7)"
   ]
  },
  {
   "cell_type": "code",
   "execution_count": null,
   "metadata": {},
   "outputs": [],
   "source": []
  }
 ],
 "metadata": {
  "kernelspec": {
   "display_name": "Python 3",
   "language": "python",
   "name": "python3"
  },
  "language_info": {
   "codemirror_mode": {
    "name": "ipython",
    "version": 3
   },
   "file_extension": ".py",
   "mimetype": "text/x-python",
   "name": "python",
   "nbconvert_exporter": "python",
   "pygments_lexer": "ipython3",
   "version": "3.7.3"
  }
 },
 "nbformat": 4,
 "nbformat_minor": 2
}
