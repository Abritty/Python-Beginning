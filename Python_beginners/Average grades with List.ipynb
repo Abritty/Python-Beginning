{
 "cells": [
  {
   "cell_type": "code",
   "execution_count": 1,
   "metadata": {},
   "outputs": [
    {
     "name": "stdout",
     "output_type": "stream",
     "text": [
      "Enter grades to calculate their average. type E to exit\n",
      " enter grade>> 3.4\n",
      " enter grade>> 2.3\n",
      " enter grade>> 4.0\n",
      " enter grade>> e\n"
     ]
    }
   ],
   "source": [
    "print(\"Enter grades to calculate their average. type E to exit\")\n",
    "\n",
    "#creating an empty list\n",
    "grades = []\n",
    "sum = 0\n",
    "\n",
    "while True :\n",
    "    grade = input(\" enter grade>> \")\n",
    "    if grade == 'e' :\n",
    "        break\n",
    "    else :\n",
    "        grade = float(grade)\n",
    "        grades.append(grade)\n",
    "\n",
    "\n",
    "\n",
    "\n"
   ]
  },
  {
   "cell_type": "code",
   "execution_count": 2,
   "metadata": {},
   "outputs": [
    {
     "data": {
      "text/plain": [
       "[3.4, 2.3, 4.0]"
      ]
     },
     "execution_count": 2,
     "metadata": {},
     "output_type": "execute_result"
    }
   ],
   "source": [
    "grades\n"
   ]
  },
  {
   "cell_type": "code",
   "execution_count": 4,
   "metadata": {},
   "outputs": [
    {
     "name": "stdout",
     "output_type": "stream",
     "text": [
      "average 3.233333333333333\n"
     ]
    }
   ],
   "source": [
    "#iterate over list\n",
    "sum = 0\n",
    "for grad in grades :\n",
    "    sum = sum + grad\n",
    "    average = sum/len(grades)\n",
    "    \n",
    "print(\"average\",average)"
   ]
  },
  {
   "cell_type": "markdown",
   "metadata": {},
   "source": [
    "# Version 3"
   ]
  },
  {
   "cell_type": "code",
   "execution_count": null,
   "metadata": {},
   "outputs": [],
   "source": [
    "import math"
   ]
  },
  {
   "cell_type": "code",
   "execution_count": null,
   "metadata": {},
   "outputs": [],
   "source": [
    "grades = []  # creating a empty list"
   ]
  },
  {
   "cell_type": "code",
   "execution_count": null,
   "metadata": {},
   "outputs": [],
   "source": [
    "while True :\n",
    "    print(\"Enter your choice :\")\n",
    "    print(\"Enter grade -> 1 \")\n",
    "    print(\"Exit -> 6 \")\n",
    "    \n",
    "    choice = input(\"-> \")\n",
    "   "
   ]
  },
  {
   "cell_type": "code",
   "execution_count": null,
   "metadata": {},
   "outputs": [],
   "source": []
  }
 ],
 "metadata": {
  "kernelspec": {
   "display_name": "Python 3",
   "language": "python",
   "name": "python3"
  },
  "language_info": {
   "codemirror_mode": {
    "name": "ipython",
    "version": 3
   },
   "file_extension": ".py",
   "mimetype": "text/x-python",
   "name": "python",
   "nbconvert_exporter": "python",
   "pygments_lexer": "ipython3",
   "version": "3.7.3"
  }
 },
 "nbformat": 4,
 "nbformat_minor": 2
}
