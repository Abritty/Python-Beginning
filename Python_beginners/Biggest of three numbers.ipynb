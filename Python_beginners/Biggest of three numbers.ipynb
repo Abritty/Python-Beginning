{
 "cells": [
  {
   "cell_type": "code",
   "execution_count": 3,
   "metadata": {},
   "outputs": [
    {
     "name": "stdout",
     "output_type": "stream",
     "text": [
      "12\n",
      "34\n",
      "78\n",
      "Student 3\n"
     ]
    }
   ],
   "source": [
    "student_1 =int(input())\n",
    "student_2 =int(input())\n",
    "student_3 =int(input())\n",
    "\n",
    "if student_1 > student_2:\n",
    "    if student_1>student_3:\n",
    "        print(\"Student 1\")\n",
    "    else :\n",
    "        print(\"Student 3\")\n",
    "else:\n",
    "    if student_2 >student_3:\n",
    "        print(\"Student 2\")\n",
    "    else :\n",
    "        print(\"Student 3\")"
   ]
  },
  {
   "cell_type": "code",
   "execution_count": null,
   "metadata": {},
   "outputs": [],
   "source": []
  },
  {
   "cell_type": "code",
   "execution_count": null,
   "metadata": {},
   "outputs": [],
   "source": []
  }
 ],
 "metadata": {
  "kernelspec": {
   "display_name": "Python 3",
   "language": "python",
   "name": "python3"
  },
  "language_info": {
   "codemirror_mode": {
    "name": "ipython",
    "version": 3
   },
   "file_extension": ".py",
   "mimetype": "text/x-python",
   "name": "python",
   "nbconvert_exporter": "python",
   "pygments_lexer": "ipython3",
   "version": "3.7.3"
  }
 },
 "nbformat": 4,
 "nbformat_minor": 2
}
