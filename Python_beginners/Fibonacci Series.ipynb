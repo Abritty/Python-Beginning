{
 "cells": [
  {
   "cell_type": "markdown",
   "metadata": {},
   "source": [
    "# For loop\n"
   ]
  },
  {
   "cell_type": "code",
   "execution_count": 18,
   "metadata": {},
   "outputs": [
    {
     "name": "stdout",
     "output_type": "stream",
     "text": [
      "0 1 1 2 3 5 8 13 21 34 "
     ]
    }
   ],
   "source": [
    "prev = 0\n",
    "next_num =1\n",
    "\n",
    "count =10\n",
    "for i in range(count):\n",
    "    print(prev, end = \" \")\n",
    "    sum1 = prev + next_num\n",
    "    #print(\"updated sum\",sum1)\n",
    "    prev = next_num\n",
    "    #print(\"updated prev\",prev)\n",
    "    next_num = sum1\n",
    "    #print(\"upadated next_num\",next_num)\n",
    "    "
   ]
  },
  {
   "cell_type": "markdown",
   "metadata": {},
   "source": [
    "# while loop"
   ]
  },
  {
   "cell_type": "code",
   "execution_count": 19,
   "metadata": {},
   "outputs": [
    {
     "name": "stdout",
     "output_type": "stream",
     "text": [
      "0 1 1 2 3 5 8 13 21 34 "
     ]
    }
   ],
   "source": [
    "prev = 0\n",
    "next_num =1\n",
    "\n",
    "count =0\n",
    "while count < 10:\n",
    "    print(prev, end = \" \")\n",
    "    sum1 = prev + next_num\n",
    "    #print(\"updated sum\",sum1)\n",
    "    prev = next_num\n",
    "    #print(\"updated prev\",prev)\n",
    "    next_num = sum1\n",
    "    #print(\"upadated next_num\",next_num)\n",
    "    count = count + 1\n",
    "    "
   ]
  },
  {
   "cell_type": "code",
   "execution_count": null,
   "metadata": {},
   "outputs": [],
   "source": []
  }
 ],
 "metadata": {
  "kernelspec": {
   "display_name": "Python 3",
   "language": "python",
   "name": "python3"
  },
  "language_info": {
   "codemirror_mode": {
    "name": "ipython",
    "version": 3
   },
   "file_extension": ".py",
   "mimetype": "text/x-python",
   "name": "python",
   "nbconvert_exporter": "python",
   "pygments_lexer": "ipython3",
   "version": "3.7.3"
  }
 },
 "nbformat": 4,
 "nbformat_minor": 2
}
