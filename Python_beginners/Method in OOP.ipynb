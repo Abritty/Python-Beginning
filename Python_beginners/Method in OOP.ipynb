{
 "cells": [
  {
   "cell_type": "code",
   "execution_count": 3,
   "metadata": {},
   "outputs": [],
   "source": [
    "class Account : \n",
    "    def __init__ ( self, number ) :\n",
    "        self.number = number\n",
    "        \n",
    "    def account_type(self) :\n",
    "        # Get the account type\n",
    "        if str(self.number).startswith(\"1\") :\n",
    "            self.type = \"current\"  #creating a instence variabe dynamically\n",
    "        elif str(self.number).startswith(\"2\") :\n",
    "            self.type = \"saving\"\n",
    "    def interest_rate(self) :\n",
    "        \n",
    "        self.account_type()\n",
    "        if self.type == \"current\" :\n",
    "            self.interest = 0\n",
    "        elif self.type == \"saving\" :\n",
    "            self.interest = 5\n",
    "        return self.interest\n",
    "\n",
    "         \n",
    "        "
   ]
  },
  {
   "cell_type": "code",
   "execution_count": 4,
   "metadata": {},
   "outputs": [
    {
     "data": {
      "text/plain": [
       "5"
      ]
     },
     "execution_count": 4,
     "metadata": {},
     "output_type": "execute_result"
    }
   ],
   "source": [
    "acc = Account(2001)\n",
    "acc.interest_rate()\n"
   ]
  },
  {
   "cell_type": "code",
   "execution_count": null,
   "metadata": {},
   "outputs": [],
   "source": []
  }
 ],
 "metadata": {
  "kernelspec": {
   "display_name": "Python 3",
   "language": "python",
   "name": "python3"
  },
  "language_info": {
   "codemirror_mode": {
    "name": "ipython",
    "version": 3
   },
   "file_extension": ".py",
   "mimetype": "text/x-python",
   "name": "python",
   "nbconvert_exporter": "python",
   "pygments_lexer": "ipython3",
   "version": "3.7.3"
  }
 },
 "nbformat": 4,
 "nbformat_minor": 2
}
