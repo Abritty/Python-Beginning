{
 "cells": [
  {
   "cell_type": "code",
   "execution_count": 3,
   "metadata": {},
   "outputs": [
    {
     "name": "stdout",
     "output_type": "stream",
     "text": [
      "Enter a sentence -its good\n",
      "number of vowels : 3\n"
     ]
    }
   ],
   "source": [
    "sentence = input(\"Enter a sentence -\")\n",
    "\n",
    "vowels =['a','e','i','o','u']\n",
    "Vowel_num = 0\n",
    "\n",
    "for i in list(sentence): #convertng a string in list \n",
    "    if i in vowels:\n",
    "        Vowel_num +=1\n",
    "\n",
    "print(\"number of vowels :\",Vowel_num)"
   ]
  },
  {
   "cell_type": "code",
   "execution_count": 4,
   "metadata": {},
   "outputs": [
    {
     "data": {
      "text/plain": [
       "['i', 't', 's', ' ', 'g', 'o', 'o', 'd']"
      ]
     },
     "execution_count": 4,
     "metadata": {},
     "output_type": "execute_result"
    }
   ],
   "source": [
    "list(sentence)"
   ]
  },
  {
   "cell_type": "code",
   "execution_count": null,
   "metadata": {},
   "outputs": [],
   "source": []
  }
 ],
 "metadata": {
  "kernelspec": {
   "display_name": "Python 3",
   "language": "python",
   "name": "python3"
  },
  "language_info": {
   "codemirror_mode": {
    "name": "ipython",
    "version": 3
   },
   "file_extension": ".py",
   "mimetype": "text/x-python",
   "name": "python",
   "nbconvert_exporter": "python",
   "pygments_lexer": "ipython3",
   "version": "3.7.3"
  }
 },
 "nbformat": 4,
 "nbformat_minor": 2
}
