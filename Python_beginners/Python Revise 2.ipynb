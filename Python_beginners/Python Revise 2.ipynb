{
 "cells": [
  {
   "cell_type": "code",
   "execution_count": 1,
   "metadata": {},
   "outputs": [
    {
     "name": "stdout",
     "output_type": "stream",
     "text": [
      "a is less than b\n",
      "No sure\n"
     ]
    }
   ],
   "source": [
    "a=1\n",
    "b=2\n",
    "if a < b:\n",
    "    print(\"a is less than b\")\n",
    "print(\"No sure\")"
   ]
  },
  {
   "cell_type": "code",
   "execution_count": 8,
   "metadata": {},
   "outputs": [
    {
     "name": "stdout",
     "output_type": "stream",
     "text": [
      "C is greater than D\n"
     ]
    }
   ],
   "source": [
    "c=30\n",
    "d=3\n",
    "if c<d:\n",
    "    print(\"C is less than D\")\n",
    "elif c==d:\n",
    "    print(\"C is equal to D\")\n",
    "else:\n",
    "    print(\"C is greater than D\")"
   ]
  },
  {
   "cell_type": "code",
   "execution_count": null,
   "metadata": {},
   "outputs": [],
   "source": []
  }
 ],
 "metadata": {
  "kernelspec": {
   "display_name": "Python 3",
   "language": "python",
   "name": "python3"
  },
  "language_info": {
   "codemirror_mode": {
    "name": "ipython",
    "version": 3
   },
   "file_extension": ".py",
   "mimetype": "text/x-python",
   "name": "python",
   "nbconvert_exporter": "python",
   "pygments_lexer": "ipython3",
   "version": "3.7.3"
  }
 },
 "nbformat": 4,
 "nbformat_minor": 2
}
