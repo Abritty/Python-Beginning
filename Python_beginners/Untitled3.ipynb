{
 "cells": [
  {
   "cell_type": "code",
   "execution_count": 1,
   "metadata": {},
   "outputs": [],
   "source": [
    "import math "
   ]
  },
  {
   "cell_type": "code",
   "execution_count": null,
   "metadata": {},
   "outputs": [
    {
     "name": "stdout",
     "output_type": "stream",
     "text": [
      "Enter your choice :\n",
      "Enter grade -> 1 \n",
      "Exit -> 6 \n",
      "-> 6\n",
      "Enter your choice :\n",
      "Enter grade -> 1 \n",
      "Exit -> 6 \n"
     ]
    }
   ],
   "source": [
    "grades=[]\n",
    "\n",
    "while True :\n",
    "    print(\"Enter your choice :\")\n",
    "    print(\"Enter grade -> 1 \")\n",
    "    print(\"Exit -> 6 \")\n",
    "    \n",
    "    choice = input(\"-> \")\n",
    "    \n",
    "    if not(len(choice) == 1 and choic)\n",
    "   "
   ]
  },
  {
   "cell_type": "code",
   "execution_count": null,
   "metadata": {},
   "outputs": [],
   "source": []
  }
 ],
 "metadata": {
  "kernelspec": {
   "display_name": "Python 3",
   "language": "python",
   "name": "python3"
  },
  "language_info": {
   "codemirror_mode": {
    "name": "ipython",
    "version": 3
   },
   "file_extension": ".py",
   "mimetype": "text/x-python",
   "name": "python",
   "nbconvert_exporter": "python",
   "pygments_lexer": "ipython3",
   "version": "3.7.3"
  }
 },
 "nbformat": 4,
 "nbformat_minor": 2
}
