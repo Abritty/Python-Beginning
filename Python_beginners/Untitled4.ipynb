{
 "cells": [
  {
   "cell_type": "code",
   "execution_count": 1,
   "metadata": {},
   "outputs": [],
   "source": [
    "import math"
   ]
  },
  {
   "cell_type": "code",
   "execution_count": null,
   "metadata": {},
   "outputs": [],
   "source": [
    "grades = []\n",
    "\n",
    "while True :\n",
    "    print(\"Enter your choice :\")\n",
    "    print(\"Enter grade --> 1\")\n",
    "    print(\"List grades --> 2\")\n",
    "    print(\"Delete Grades -->3\")\n",
    "    print(\"Exit --> 6\")\n",
    "    \n",
    "    choice =input(\"-->\")\n",
    "    \n",
    "    if not(len(choice) == 1 and choice.isnumeric()):\n",
    "        print(\"Enter a valid choice.\")\n",
    "        continue\n",
    "    \n",
    "    if int(choice)==6:\n",
    "        break\n",
    "    \n",
    "    if int(choice)==1:\n",
    "        print(\"Enter 'e' to exit .\")\n",
    "        while True:\n",
    "            grade = input(\"-->\")\n",
    "            \n",
    "            if grade == 'e' :\n",
    "                break\n",
    "            else:\n",
    "                grade=float(grade)\n",
    "                grades.append(grade)\n",
    "                \n",
    "    if int(choice)==2:\n",
    "        for grade in grades:\n",
    "            print(grade)\n",
    "    if int(choice)==3:\n",
    "        for grade in grades:\n",
    "            print(grade)\n",
    "            \n",
    "            \n",
    "        index = int(input(\"Enter the index to delete -->\"))\n",
    "        grades.pop(index)\n",
    "        \n",
    "    \n",
    "    "
   ]
  },
  {
   "cell_type": "code",
   "execution_count": null,
   "metadata": {},
   "outputs": [],
   "source": []
  }
 ],
 "metadata": {
  "kernelspec": {
   "display_name": "Python 3",
   "language": "python",
   "name": "python3"
  },
  "language_info": {
   "codemirror_mode": {
    "name": "ipython",
    "version": 3
   },
   "file_extension": ".py",
   "mimetype": "text/x-python",
   "name": "python",
   "nbconvert_exporter": "python",
   "pygments_lexer": "ipython3",
   "version": "3.7.3"
  }
 },
 "nbformat": 4,
 "nbformat_minor": 2
}
