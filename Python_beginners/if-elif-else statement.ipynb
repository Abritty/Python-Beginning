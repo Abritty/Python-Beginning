{
 "cells": [
  {
   "cell_type": "code",
   "execution_count": 31,
   "metadata": {},
   "outputs": [],
   "source": [
    "floors = 10\n",
    "current_floor = 0 #starting point\n",
    "user_floor = 0\n",
    "emergency = False"
   ]
  },
  {
   "cell_type": "code",
   "execution_count": 32,
   "metadata": {},
   "outputs": [
    {
     "name": "stdout",
     "output_type": "stream",
     "text": [
      "8\n",
      "2\n",
      "Move Down\n"
     ]
    }
   ],
   "source": [
    "user_floor = int(input())\n",
    "current_floor=int(input())\n",
    "\n",
    "dif = user_floor - current_floor\n",
    "\n",
    "if dif < 0 :\n",
    "    current_floor = user_floor\n",
    "    if emergency == False:\n",
    "         print(\"Move Down\")\n",
    "if dif >0 :\n",
    "    current_floor= user_floor\n",
    "    if emergency == False:\n",
    "         print(\"Move Down\")"
   ]
  },
  {
   "cell_type": "code",
   "execution_count": null,
   "metadata": {},
   "outputs": [],
   "source": []
  }
 ],
 "metadata": {
  "kernelspec": {
   "display_name": "Python 3",
   "language": "python",
   "name": "python3"
  },
  "language_info": {
   "codemirror_mode": {
    "name": "ipython",
    "version": 3
   },
   "file_extension": ".py",
   "mimetype": "text/x-python",
   "name": "python",
   "nbconvert_exporter": "python",
   "pygments_lexer": "ipython3",
   "version": "3.7.3"
  }
 },
 "nbformat": 4,
 "nbformat_minor": 2
}
