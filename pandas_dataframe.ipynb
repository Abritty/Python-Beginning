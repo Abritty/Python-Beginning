{
  "nbformat": 4,
  "nbformat_minor": 0,
  "metadata": {
    "colab": {
      "name": "pandas dataframe.ipynb",
      "provenance": [],
      "authorship_tag": "ABX9TyPOkL2CxIsEngS66woSOnoK",
      "include_colab_link": true
    },
    "kernelspec": {
      "name": "python3",
      "display_name": "Python 3"
    }
  },
  "cells": [
    {
      "cell_type": "markdown",
      "metadata": {
        "id": "view-in-github",
        "colab_type": "text"
      },
      "source": [
        "<a href=\"https://colab.research.google.com/github/Abritty/Python-Beginning/blob/master/pandas_dataframe.ipynb\" target=\"_parent\"><img src=\"https://colab.research.google.com/assets/colab-badge.svg\" alt=\"Open In Colab\"/></a>"
      ]
    },
    {
      "cell_type": "code",
      "metadata": {
        "id": "oinFffcRjkMB"
      },
      "source": [
        "import pandas as pd\n",
        "import numpy as np"
      ],
      "execution_count": 1,
      "outputs": []
    },
    {
      "cell_type": "code",
      "metadata": {
        "colab": {
          "base_uri": "https://localhost:8080/"
        },
        "id": "SRsEnOFpjwTK",
        "outputId": "ff5824f3-4dda-4dcd-9584-915c111cf9c4"
      },
      "source": [
        "df1 = pd.DataFrame([(1,2),(3,4),(5,6)], columns=['a','b'])\n",
        "print(df1)"
      ],
      "execution_count": 2,
      "outputs": [
        {
          "output_type": "stream",
          "text": [
            "   a  b\n",
            "0  1  2\n",
            "1  3  4\n",
            "2  5  6\n"
          ],
          "name": "stdout"
        }
      ]
    },
    {
      "cell_type": "code",
      "metadata": {
        "colab": {
          "base_uri": "https://localhost:8080/"
        },
        "id": "pzWgPp6vj5R_",
        "outputId": "87c13564-0d25-4a40-d9e7-d579677ea232"
      },
      "source": [
        "df2 = pd.DataFrame([(100,200),(300,400),(500,600)], columns=['a','b'])\n",
        "print(df2)"
      ],
      "execution_count": 3,
      "outputs": [
        {
          "output_type": "stream",
          "text": [
            "     a    b\n",
            "0  100  200\n",
            "1  300  400\n",
            "2  500  600\n"
          ],
          "name": "stdout"
        }
      ]
    },
    {
      "cell_type": "code",
      "metadata": {
        "colab": {
          "base_uri": "https://localhost:8080/"
        },
        "id": "sWH8zZHPj-4P",
        "outputId": "9b207fd6-02aa-494e-9ee8-6e96ea37d0c9"
      },
      "source": [
        "df_add = df1.add(df2, fill_value=0)\n",
        "print(df_add)"
      ],
      "execution_count": 4,
      "outputs": [
        {
          "output_type": "stream",
          "text": [
            "     a    b\n",
            "0  101  202\n",
            "1  303  404\n",
            "2  505  606\n"
          ],
          "name": "stdout"
        }
      ]
    }
  ]
}